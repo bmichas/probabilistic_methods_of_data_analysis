{
 "cells": [
  {
   "cell_type": "code",
   "execution_count": null,
   "metadata": {},
   "outputs": [],
   "source": [
    "import matplotlib.pyplot as plt\n",
    "import random\n",
    "import numpy as np\n",
    "from scipy.stats import beta\n",
    "from matplotlib import pyplot as plt"
   ]
  },
  {
   "cell_type": "code",
   "execution_count": null,
   "metadata": {},
   "outputs": [],
   "source": [
    "class Batch:\n",
    "  quality = 0.5\n",
    "  alpha = 1\n",
    "  beta = 1\n",
    "  good = 0\n",
    "  \n",
    "  def __init__(self, quality):\n",
    "    self.quality = quality\n",
    "  \n",
    "  def sample_distribution(self):\n",
    "    return np.random.beta(self.alpha, self.beta)\n",
    "  \n",
    "  def get_element(self):\n",
    "    good = np.random.rand() < self.quality\n",
    "    self.alpha = self.alpha + int(good)\n",
    "    self.beta = self.beta + 1 - int(good)\n",
    "    return good"
   ]
  },
  {
   "cell_type": "code",
   "execution_count": null,
   "metadata": {},
   "outputs": [],
   "source": [
    "class Bayesian_Factory:\n",
    "  batches = []\n",
    "  systems = 0\n",
    "  good = 0\n",
    "  \n",
    "  def set_batches(self, qualities):\n",
    "    self.batches = [Batch(quality) for quality in qualities]\n",
    "    self.systems = 0\n",
    "    self.good = 0\n",
    "  \n",
    "  def get_element(self):\n",
    "    samples = [batch.sample_distribution() for batch in self.batches]\n",
    "    choice = np.argmax(samples)\n",
    "    result = self.batches[choice].get_element()\n",
    "    self.systems = self.systems + 1\n",
    "    self.good = self.good + int(result)"
   ]
  }
 ],
 "metadata": {
  "kernelspec": {
   "display_name": "Python 3.9.2 64-bit",
   "language": "python",
   "name": "python3"
  },
  "language_info": {
   "name": "python",
   "version": "3.9.2"
  },
  "orig_nbformat": 4,
  "vscode": {
   "interpreter": {
    "hash": "e04553695969d4d47faf5f6cb6680defa9132066165e6d56f61a0a2813d22dbc"
   }
  }
 },
 "nbformat": 4,
 "nbformat_minor": 2
}
